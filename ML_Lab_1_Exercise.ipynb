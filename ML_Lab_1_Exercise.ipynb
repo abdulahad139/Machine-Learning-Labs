{
  "nbformat": 4,
  "nbformat_minor": 0,
  "metadata": {
    "colab": {
      "provenance": []
    },
    "kernelspec": {
      "name": "python3",
      "display_name": "Python 3"
    },
    "language_info": {
      "name": "python"
    }
  },
  "cells": [
    {
      "cell_type": "markdown",
      "source": [
        "# Machine Learning Lab 1\n",
        "\n"
      ],
      "metadata": {
        "id": "unJ-88CtPHtW"
      }
    },
    {
      "cell_type": "code",
      "execution_count": null,
      "metadata": {
        "id": "1414lL6fOagm"
      },
      "outputs": [],
      "source": [
        "import numpy as np"
      ]
    },
    {
      "cell_type": "markdown",
      "source": [
        "## 2. Create an ndarray using the following data. Write the code and outputs.\n"
      ],
      "metadata": {
        "id": "yOopEBN2Pig9"
      }
    },
    {
      "cell_type": "code",
      "source": [
        "data1 = np.array([1, 3, 9, 12, 18])\n",
        "data2 = np.array([[1,5,2,0],[3,6,4,7]])\n",
        "data3 = np.array([['7','6'],['5','4'],['3','2']])\n",
        "data4 = np.array([[11,52,20,50],[34,61,43,17]])\n"
      ],
      "metadata": {
        "id": "RxyRHFMoPGXO"
      },
      "execution_count": null,
      "outputs": []
    },
    {
      "cell_type": "code",
      "source": [
        "print('data1')\n",
        "print(data1)\n",
        "print(\"data2\")\n",
        "print(data2)\n",
        "print(\"data3\")\n",
        "print(data3)\n",
        "print(\"data4\")\n",
        "print(data4)"
      ],
      "metadata": {
        "colab": {
          "base_uri": "https://localhost:8080/"
        },
        "id": "MyLBDrliQpE8",
        "outputId": "a5b7b046-bea5-4c45-d2ae-14d95778f824"
      },
      "execution_count": null,
      "outputs": [
        {
          "output_type": "stream",
          "name": "stdout",
          "text": [
            "data1\n",
            "[ 1  3  9 12 18]\n",
            "data2\n",
            "[[1 5 2 0]\n",
            " [3 6 4 7]]\n",
            "data3\n",
            "[['7' '6']\n",
            " ['5' '4']\n",
            " ['3' '2']]\n",
            "data4\n",
            "[[11 52 20 50]\n",
            " [34 61 43 17]]\n"
          ]
        }
      ]
    },
    {
      "cell_type": "markdown",
      "source": [
        "## 3. Add Data1 in Data1. Multiply Data1 by 10. Convert Data1, Data2, Data3, and Data4 datatypes to integer."
      ],
      "metadata": {
        "id": "lBrZmIz0TDCZ"
      }
    },
    {
      "cell_type": "code",
      "source": [
        "addData1 = data1+data1\n",
        "mulData1 = data1*10"
      ],
      "metadata": {
        "id": "vOQHN1wsQuO0"
      },
      "execution_count": null,
      "outputs": []
    },
    {
      "cell_type": "code",
      "source": [
        "print('Adding Data1 in Data1 = ',addData1)\n",
        "print('Multiply Data1 by 10 = ',mulData1)"
      ],
      "metadata": {
        "colab": {
          "base_uri": "https://localhost:8080/"
        },
        "id": "QFahFG6NTkov",
        "outputId": "0e40371f-dc3c-4375-a6a8-4eafc0e4bde5"
      },
      "execution_count": null,
      "outputs": [
        {
          "output_type": "stream",
          "name": "stdout",
          "text": [
            "Adding Data1 in Data1 =  [ 2  6 18 24 36]\n",
            "Multiply Data1 by 10 =  [ 10  30  90 120 180]\n"
          ]
        }
      ]
    },
    {
      "cell_type": "code",
      "source": [
        "ConvertedData1 = data1.astype(np.int32)\n",
        "ConvertedData2 = data2.astype(np.int32)\n",
        "ConvertedData3 = data3.astype(np.int32)\n",
        "ConvertedData4 = data4.astype(np.int32)"
      ],
      "metadata": {
        "id": "ku7345AtTmb2"
      },
      "execution_count": null,
      "outputs": []
    },
    {
      "cell_type": "code",
      "source": [
        "print(ConvertedData1.dtype)\n",
        "print(ConvertedData2.dtype)\n",
        "print(ConvertedData3.dtype)\n",
        "print(ConvertedData4.dtype)"
      ],
      "metadata": {
        "colab": {
          "base_uri": "https://localhost:8080/"
        },
        "id": "xnPSBXdKVBLt",
        "outputId": "63bb3e52-de55-4ce0-9873-3bd47cffffed"
      },
      "execution_count": null,
      "outputs": [
        {
          "output_type": "stream",
          "name": "stdout",
          "text": [
            "int32\n",
            "int32\n",
            "int32\n",
            "int32\n"
          ]
        }
      ]
    },
    {
      "cell_type": "markdown",
      "source": [
        "## 4. Create a 3x5 array of 0s. 2x8 array of 1s, 6x3 array of integer random numbers"
      ],
      "metadata": {
        "id": "m8ae1zVuVnKV"
      }
    },
    {
      "cell_type": "code",
      "source": [
        "from numpy import random"
      ],
      "metadata": {
        "id": "QPkwgQTiVtRM"
      },
      "execution_count": null,
      "outputs": []
    },
    {
      "cell_type": "code",
      "source": [
        "array0s = np.full((3, 5), 0)\n",
        "array0s"
      ],
      "metadata": {
        "colab": {
          "base_uri": "https://localhost:8080/"
        },
        "id": "kJaeAK9vV7Nj",
        "outputId": "424a9a26-fc3e-478e-c690-5b17b9e71d68"
      },
      "execution_count": null,
      "outputs": [
        {
          "output_type": "execute_result",
          "data": {
            "text/plain": [
              "array([[0, 0, 0, 0, 0],\n",
              "       [0, 0, 0, 0, 0],\n",
              "       [0, 0, 0, 0, 0]])"
            ]
          },
          "metadata": {},
          "execution_count": 172
        }
      ]
    },
    {
      "cell_type": "code",
      "source": [
        "array1s = np.full((2, 8), 1)\n",
        "array1s"
      ],
      "metadata": {
        "colab": {
          "base_uri": "https://localhost:8080/"
        },
        "id": "I839DDWzYcRo",
        "outputId": "7f319e68-285d-4536-b5dc-2f19d780a990"
      },
      "execution_count": null,
      "outputs": [
        {
          "output_type": "execute_result",
          "data": {
            "text/plain": [
              "array([[1, 1, 1, 1, 1, 1, 1, 1],\n",
              "       [1, 1, 1, 1, 1, 1, 1, 1]])"
            ]
          },
          "metadata": {},
          "execution_count": 173
        }
      ]
    },
    {
      "cell_type": "code",
      "source": [
        "arrayRandomNumbers = random.randint(100,size=(6,3))\n",
        "arrayRandomNumbers"
      ],
      "metadata": {
        "colab": {
          "base_uri": "https://localhost:8080/"
        },
        "id": "bNJvzKF4Yu7Y",
        "outputId": "59e0f663-379e-48d4-fd0a-84bb41b35a53"
      },
      "execution_count": null,
      "outputs": [
        {
          "output_type": "execute_result",
          "data": {
            "text/plain": [
              "array([[46,  0, 64],\n",
              "       [57, 45, 43],\n",
              "       [94, 26, 95],\n",
              "       [28, 39, 95],\n",
              "       [81, 70, 14],\n",
              "       [66, 97, 27]])"
            ]
          },
          "metadata": {},
          "execution_count": 174
        }
      ]
    },
    {
      "cell_type": "markdown",
      "source": [
        "## 5. Square the bold elements of Data1 and Data2. Hint: use indexing and slicing."
      ],
      "metadata": {
        "id": "t3jedePlUo46"
      }
    },
    {
      "cell_type": "code",
      "source": [
        "newData1 = data1.copy()\n",
        "newData1[2:4] = newData1[2:4] **2\n",
        "newData1"
      ],
      "metadata": {
        "colab": {
          "base_uri": "https://localhost:8080/"
        },
        "id": "yLDJNIFjUvZx",
        "outputId": "f34d22c9-92e7-49eb-bfa7-94af2b9cd9e7"
      },
      "execution_count": null,
      "outputs": [
        {
          "output_type": "execute_result",
          "data": {
            "text/plain": [
              "array([  1,   3,  81, 144,  18])"
            ]
          },
          "metadata": {},
          "execution_count": 175
        }
      ]
    },
    {
      "cell_type": "code",
      "source": [
        "newData2 = data2.copy()\n",
        "newData2[0,1] = newData2[0,1] **2\n",
        "newData2[1,2] = newData2[1,2] **2\n",
        "newData2\n"
      ],
      "metadata": {
        "colab": {
          "base_uri": "https://localhost:8080/"
        },
        "id": "yYyTkbLWWOcI",
        "outputId": "c0ea1328-8c14-42b1-9849-24c4cfdfe898"
      },
      "execution_count": null,
      "outputs": [
        {
          "output_type": "execute_result",
          "data": {
            "text/plain": [
              "array([[ 1, 25,  2,  0],\n",
              "       [ 3,  6, 16,  7]])"
            ]
          },
          "metadata": {},
          "execution_count": 176
        }
      ]
    },
    {
      "cell_type": "markdown",
      "source": [
        "## 6. Consider an array Subjects = [[𝑀𝐿 𝑂𝑆 𝐶𝐶𝑁],[ 𝑂𝑆 𝐴𝐼 𝑀𝑃], [𝐶𝐶𝑁 𝑀𝐿 𝐴𝐼]] Set all courses to 0 except ML and AI. Hint: use Boolean indexing."
      ],
      "metadata": {
        "id": "tG2GzxFLaOaK"
      }
    },
    {
      "cell_type": "code",
      "source": [
        "Subjects = np.array([[\"ML\",\"OS\",\"CCN\"],[\"OS\",\"AI\",\"MP\"],[\"CCN\",\"ML\",\"AI\"]])\n",
        "# numpy built-in method\n",
        "# newSubjects = np.isin(Subjects,[\"ML\",\"AI\"],invert=True)\n",
        "# Subjects[newSubjects] = 0\n",
        "# Subjects\n",
        "# Boolean Indexing Method\n",
        "Subjects[(Subjects != \"ML\") & (Subjects != \"AI\")] = 0\n",
        "Subjects"
      ],
      "metadata": {
        "colab": {
          "base_uri": "https://localhost:8080/"
        },
        "id": "eXeSeoG5akVR",
        "outputId": "452a134d-e8b2-44fd-da3b-5ac9d425d8e6"
      },
      "execution_count": null,
      "outputs": [
        {
          "output_type": "execute_result",
          "data": {
            "text/plain": [
              "array([['ML', '0', '0'],\n",
              "       ['0', 'AI', '0'],\n",
              "       ['0', 'ML', 'AI']], dtype='<U3')"
            ]
          },
          "metadata": {},
          "execution_count": 177
        }
      ]
    },
    {
      "cell_type": "markdown",
      "source": [
        "## 7. Transpose the Data2, Data3, and Data4 arrays using appropriate function.\n"
      ],
      "metadata": {
        "id": "4VrdSpVUgPAi"
      }
    },
    {
      "cell_type": "code",
      "source": [
        "transposeData1 = data1.copy()\n",
        "transposeData2 = data2.copy()\n",
        "transposeData3 = data3.copy()\n",
        "transposeData4 = data4.copy()\n",
        "transposeData1 = np.array([transposeData1]).T\n",
        "transposeData2 = transposeData2.T\n",
        "transposeData3 = transposeData3.T\n",
        "transposeData4 = transposeData4.T\n",
        "print(\"Transpose Data1\")\n",
        "print(transposeData1)\n",
        "print(\"Transpose Data2\")\n",
        "print(transposeData2)\n",
        "print(\"Transpose Data3\")\n",
        "print(transposeData3)\n",
        "print(\"Transpose Data4\")\n",
        "print(transposeData4)\n"
      ],
      "metadata": {
        "colab": {
          "base_uri": "https://localhost:8080/"
        },
        "id": "u1-t9Pdnbdcr",
        "outputId": "e2260de9-d635-44dc-b581-a98031a29ad9"
      },
      "execution_count": null,
      "outputs": [
        {
          "output_type": "stream",
          "name": "stdout",
          "text": [
            "Transpose Data1\n",
            "[[ 1]\n",
            " [ 3]\n",
            " [ 9]\n",
            " [12]\n",
            " [18]]\n",
            "Transpose Data2\n",
            "[[1 3]\n",
            " [5 6]\n",
            " [2 4]\n",
            " [0 7]]\n",
            "Transpose Data3\n",
            "[['7' '5' '3']\n",
            " ['6' '4' '2']]\n",
            "Transpose Data4\n",
            "[[11 34]\n",
            " [52 61]\n",
            " [20 43]\n",
            " [50 17]]\n"
          ]
        }
      ]
    },
    {
      "cell_type": "markdown",
      "source": [
        "## 8. Concatenate Data2 and Data4 using vstack and hstack.\n"
      ],
      "metadata": {
        "id": "qt17dgmUi6hH"
      }
    },
    {
      "cell_type": "code",
      "source": [
        "# Using Vstack\n",
        "concat = np.vstack((data2,data4))\n",
        "concat"
      ],
      "metadata": {
        "colab": {
          "base_uri": "https://localhost:8080/"
        },
        "id": "kFRbvQRdi7Ym",
        "outputId": "383c557a-5c74-42db-f4c8-dc1eb8d792a6"
      },
      "execution_count": null,
      "outputs": [
        {
          "output_type": "execute_result",
          "data": {
            "text/plain": [
              "array([[ 1,  5,  2,  0],\n",
              "       [ 3,  6,  4,  7],\n",
              "       [11, 52, 20, 50],\n",
              "       [34, 61, 43, 17]])"
            ]
          },
          "metadata": {},
          "execution_count": 179
        }
      ]
    },
    {
      "cell_type": "code",
      "source": [
        "# Using hstack\n",
        "concat = np.hstack((data2,data4))\n",
        "concat"
      ],
      "metadata": {
        "colab": {
          "base_uri": "https://localhost:8080/"
        },
        "id": "iQ27_XL7jW0-",
        "outputId": "58cf4273-b8d4-442d-eee7-aa5634f05651"
      },
      "execution_count": null,
      "outputs": [
        {
          "output_type": "execute_result",
          "data": {
            "text/plain": [
              "array([[ 1,  5,  2,  0, 11, 52, 20, 50],\n",
              "       [ 3,  6,  4,  7, 34, 61, 43, 17]])"
            ]
          },
          "metadata": {},
          "execution_count": 180
        }
      ]
    },
    {
      "cell_type": "markdown",
      "source": [
        "## 9. Demean each column of Data2. Hint: use broadcasting.\n"
      ],
      "metadata": {
        "id": "gN0bSRiWjz-W"
      }
    },
    {
      "cell_type": "code",
      "source": [
        "meanData2 = data2.mean(0)\n",
        "demeanData2 = data2 - meanData2\n",
        "demeanData2"
      ],
      "metadata": {
        "colab": {
          "base_uri": "https://localhost:8080/"
        },
        "id": "Xf0msvTxjybO",
        "outputId": "93d1bba6-4fa5-4898-c504-04f1aa433736"
      },
      "execution_count": null,
      "outputs": [
        {
          "output_type": "execute_result",
          "data": {
            "text/plain": [
              "array([[-1. , -0.5, -1. , -3.5],\n",
              "       [ 1. ,  0.5,  1. ,  3.5]])"
            ]
          },
          "metadata": {},
          "execution_count": 181
        }
      ]
    },
    {
      "cell_type": "markdown",
      "source": [
        "## 10. Convert Data2 shape into 4x2. Hint: Use reshape function."
      ],
      "metadata": {
        "id": "OQM0t46XrApc"
      }
    },
    {
      "cell_type": "code",
      "source": [
        "newShapeData2 = data2.reshape(4,2)\n",
        "newShapeData2"
      ],
      "metadata": {
        "colab": {
          "base_uri": "https://localhost:8080/"
        },
        "id": "hxXKAFOPqggE",
        "outputId": "11196f9e-8dd0-4229-c8a4-4360014508f8"
      },
      "execution_count": null,
      "outputs": [
        {
          "output_type": "execute_result",
          "data": {
            "text/plain": [
              "array([[1, 5],\n",
              "       [2, 0],\n",
              "       [3, 6],\n",
              "       [4, 7]])"
            ]
          },
          "metadata": {},
          "execution_count": 182
        }
      ]
    },
    {
      "cell_type": "markdown",
      "source": [
        "## 11. Consider the table having marks of three students scored in three subjects. Compute the maximum score of each subject. Hint: use max function"
      ],
      "metadata": {
        "id": "gOdUBBTNrZ39"
      }
    },
    {
      "cell_type": "code",
      "source": [
        "subjectMarks = np.array([[60,70,50],[40,60,80],[70,55,65]])\n",
        "print(\"Subject1 max Score\",subjectMarks[0].max())\n",
        "print(\"Subject2 max Score\",subjectMarks[1].max())\n",
        "print(\"Subject3 max Score\",subjectMarks[2].max())"
      ],
      "metadata": {
        "colab": {
          "base_uri": "https://localhost:8080/"
        },
        "id": "BpOrhrXcrE4s",
        "outputId": "bac7667a-3712-4d7d-c02a-b95ce4777578"
      },
      "execution_count": null,
      "outputs": [
        {
          "output_type": "stream",
          "name": "stdout",
          "text": [
            "Subject1 max Score 70\n",
            "Subject2 max Score 80\n",
            "Subject3 max Score 70\n"
          ]
        }
      ]
    },
    {
      "cell_type": "markdown",
      "source": [
        "## 12. Compute the CGPA of all three students using the following formula and tables 1.11 and 1.12 (Hint:Use ufunc methods).\n"
      ],
      "metadata": {
        "id": "qlh1Eo7AszF6"
      }
    },
    {
      "cell_type": "code",
      "source": [
        "creditHours = np.array([2, 3, 4])\n",
        "totalCreditHours = sum(creditHours)\n",
        "def marks_to_grade_point(marks):\n",
        "    if marks >= 85:\n",
        "        return 4.0\n",
        "    elif 80<=marks<= 84:\n",
        "        return 3.7\n",
        "    elif 75<=marks<= 79:\n",
        "        return 3.4\n",
        "    elif 70<=marks<= 74:\n",
        "        return 3.0\n",
        "    elif 67<=marks<= 69:\n",
        "        return 2.7\n",
        "    elif 64<=marks<= 66:\n",
        "        return 2.4\n",
        "    elif 60<=marks<= 63:\n",
        "        return 2.0\n",
        "    elif 57<=marks<= 59:\n",
        "        return 1.7\n",
        "    elif 54<=marks<= 56:\n",
        "        return 1.4\n",
        "    elif 50<=marks<= 53:\n",
        "        return 1.0\n",
        "    elif marks<50:\n",
        "        return 0.0\n",
        "CGPA = []\n",
        "for student_id in range(subjectMarks.shape[1]):  # Loop through each student\n",
        "    total_weighted_points = 0  # Initialize weighted points for the student\n",
        "    for subjectID in range(subjectMarks.shape[0]):  # Loop through each subject\n",
        "        marks = subjectMarks[subjectID][student_id]  # Marks for the student in this subject\n",
        "        gradePoint = marks_to_grade_point(marks)  # Convert marks to grade points\n",
        "        total_weighted_points += gradePoint * creditHours[subjectID]  # Add weighted points\n",
        "    # Calculating CGPA for the student\n",
        "    studentcgpa = total_weighted_points / totalCreditHours\n",
        "    CGPA.append(studentcgpa)\n",
        "\n",
        "# Print the CGPA for each student\n",
        "for i, studentcgpa in enumerate(CGPA, start=1):\n",
        "    print(f\"CGPA of Student {i}: {studentcgpa:.2f}\")"
      ],
      "metadata": {
        "colab": {
          "base_uri": "https://localhost:8080/"
        },
        "id": "8GuT-_Zls2ep",
        "outputId": "cc650ecc-266f-4f06-b9e8-c2e74f2c4a9d"
      },
      "execution_count": null,
      "outputs": [
        {
          "output_type": "stream",
          "name": "stdout",
          "text": [
            "CGPA of Student 1: 1.78\n",
            "CGPA of Student 2: 1.96\n",
            "CGPA of Student 3: 2.52\n"
          ]
        }
      ]
    },
    {
      "cell_type": "markdown",
      "source": [
        "## 13. Compute the sorted unique values in subjects array."
      ],
      "metadata": {
        "id": "cfOb1AymAhhE"
      }
    },
    {
      "cell_type": "code",
      "source": [
        "Subjects = np.array([[\"ML\",\"OS\",\"CCN\"],[\"OS\",\"AI\",\"MP\"],[\"CCN\",\"ML\",\"AI\"]])\n",
        "uniqueSubjects = np.unique(Subjects)\n",
        "uniqueSubjects"
      ],
      "metadata": {
        "colab": {
          "base_uri": "https://localhost:8080/"
        },
        "id": "u7SSVP_rAikC",
        "outputId": "b42e9dc6-f1a3-4316-cbe1-09e3d65bba09"
      },
      "execution_count": null,
      "outputs": [
        {
          "output_type": "execute_result",
          "data": {
            "text/plain": [
              "array(['AI', 'CCN', 'ML', 'MP', 'OS'], dtype='<U3')"
            ]
          },
          "metadata": {},
          "execution_count": 186
        }
      ]
    },
    {
      "cell_type": "markdown",
      "source": [
        "## 14. Compute the dot product and inverse of 4x4 random matrix. Hint: Use numpy.linalg functions."
      ],
      "metadata": {
        "id": "w06SVmgrCl09"
      }
    },
    {
      "cell_type": "code",
      "source": [
        "from numpy import random\n",
        "a = random.randn(4,4)\n",
        "dotProduct = a.dot(a)\n",
        "dotProduct"
      ],
      "metadata": {
        "colab": {
          "base_uri": "https://localhost:8080/"
        },
        "id": "WSQIJEECCnH3",
        "outputId": "74c08572-e5f4-4e1f-dc28-063becd50f20"
      },
      "execution_count": null,
      "outputs": [
        {
          "output_type": "execute_result",
          "data": {
            "text/plain": [
              "array([[ 5.21983991,  1.2349607 ,  4.93834596, -1.11768244],\n",
              "       [-1.25520297, -0.72885987, -0.97437805, -0.06896518],\n",
              "       [-1.09922793, -0.26402026, -0.18250798,  1.22927714],\n",
              "       [-1.74729678, -0.12939922,  0.02347213,  0.89898791]])"
            ]
          },
          "metadata": {},
          "execution_count": 187
        }
      ]
    },
    {
      "cell_type": "code",
      "source": [
        "from numpy.linalg import inv\n",
        "inverse = inv(a)\n",
        "inverse"
      ],
      "metadata": {
        "colab": {
          "base_uri": "https://localhost:8080/"
        },
        "id": "OpLrft3YD9HW",
        "outputId": "efec1290-e8d8-438b-9bdd-30f663586152"
      },
      "execution_count": null,
      "outputs": [
        {
          "output_type": "execute_result",
          "data": {
            "text/plain": [
              "array([[ 0.21832881, -0.63247349, -0.1475671 , -0.20209122],\n",
              "       [ 0.00309059, -0.03755285, -1.33926736,  1.17565107],\n",
              "       [ 0.25254641,  0.66005431,  0.85450922, -0.05643497],\n",
              "       [-0.05209667, -0.79086265,  0.07068451,  0.60999947]])"
            ]
          },
          "metadata": {},
          "execution_count": 189
        }
      ]
    },
    {
      "cell_type": "markdown",
      "source": [
        "## 15. Store all the created arrays on disk.\n"
      ],
      "metadata": {
        "id": "0eri9SdVE8S_"
      }
    },
    {
      "cell_type": "code",
      "source": [
        "np.savez('createdarrays.npz', data1=data1, data2=data2, data3=data3, data4=data4,subjects=Subjects,marks=subjectMarks)"
      ],
      "metadata": {
        "id": "nhJNaixKE9TW"
      },
      "execution_count": null,
      "outputs": []
    },
    {
      "cell_type": "code",
      "source": [
        "arch = np.load('createdarrays.npz')\n",
        "print(arch['data1'])\n"
      ],
      "metadata": {
        "colab": {
          "base_uri": "https://localhost:8080/"
        },
        "id": "VpDikBxnFWPI",
        "outputId": "58d07896-ffe4-4cb8-c407-9682459c2f60"
      },
      "execution_count": null,
      "outputs": [
        {
          "output_type": "stream",
          "name": "stdout",
          "text": [
            "[ 1  3  9 12 18]\n"
          ]
        }
      ]
    },
    {
      "cell_type": "code",
      "source": [],
      "metadata": {
        "id": "k1-8buVqFe5D"
      },
      "execution_count": null,
      "outputs": []
    }
  ]
}